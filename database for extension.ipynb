{
 "cells": [
  {
   "cell_type": "code",
   "execution_count": 3,
   "metadata": {},
   "outputs": [],
   "source": [
    "import pandas as pd"
   ]
  },
  {
   "cell_type": "code",
   "execution_count": 4,
   "metadata": {},
   "outputs": [],
   "source": [
    "#defining list and \n",
    "app_list = []\n",
    "database_df = pd.DataFrame(app_list)"
   ]
  },
  {
   "cell_type": "code",
   "execution_count": 7,
   "metadata": {},
   "outputs": [
    {
     "name": "stdout",
     "output_type": "stream",
     "text": [
      "Please enter your first name: bing\n",
      "Please enter your last name: hu\n",
      "Please enter your birthday as (MM/DD/YY): 12/12/12\n",
      "Please enter your email: adsadaw@mail.ru\n",
      "Please enter your phone number: 53423134\n",
      "Please enter your gender: M or FF\n",
      "Thank you!\n"
     ]
    }
   ],
   "source": [
    "first_name = input(\"Please enter your first name: \")\n",
    "last_name = input(\"Please enter your last name: \")\n",
    "birth_day = input(\"Please enter your birthday as (MM/DD/YY): \")\n",
    "email = input(\"Please enter your email: \")\n",
    "phone = input(\"Please enter your phone number: \")\n",
    "gender = input(\"Please enter your gender: M or F\")\n",
    "print(\"Thank you!\")\n",
    "app_list.append({\"first_name\" : first_name,\n",
    "                     \"last_name\" : last_name,\n",
    "                     \"birth_day\" : birth_day,\n",
    "                     \"email\" : email,\n",
    "                     \"phone\" : phone,\n",
    "                     \"gender\" : gender})\n",
    "    \n",
    "user_data = database_df.append(app_list, ignore_index = True)\n",
    "user_data = user_data.reindex(columns = ['first_name', 'last_name', 'birth_day', 'email', 'phone', 'gender'])"
   ]
  },
  {
   "cell_type": "code",
   "execution_count": 8,
   "metadata": {},
   "outputs": [
    {
     "data": {
      "text/html": [
       "<div>\n",
       "<style scoped>\n",
       "    .dataframe tbody tr th:only-of-type {\n",
       "        vertical-align: middle;\n",
       "    }\n",
       "\n",
       "    .dataframe tbody tr th {\n",
       "        vertical-align: top;\n",
       "    }\n",
       "\n",
       "    .dataframe thead th {\n",
       "        text-align: right;\n",
       "    }\n",
       "</style>\n",
       "<table border=\"1\" class=\"dataframe\">\n",
       "  <thead>\n",
       "    <tr style=\"text-align: right;\">\n",
       "      <th></th>\n",
       "      <th>first_name</th>\n",
       "      <th>last_name</th>\n",
       "      <th>birth_day</th>\n",
       "      <th>email</th>\n",
       "      <th>phone</th>\n",
       "      <th>gender</th>\n",
       "    </tr>\n",
       "  </thead>\n",
       "  <tbody>\n",
       "    <tr>\n",
       "      <th>0</th>\n",
       "      <td>ilia</td>\n",
       "      <td>gogitidze</td>\n",
       "      <td>12/22/11</td>\n",
       "      <td>@hutledu</td>\n",
       "      <td>1456654321</td>\n",
       "      <td>M</td>\n",
       "    </tr>\n",
       "    <tr>\n",
       "      <th>1</th>\n",
       "      <td>bing</td>\n",
       "      <td>hu</td>\n",
       "      <td>12/12/12</td>\n",
       "      <td>adsadaw@mail.ru</td>\n",
       "      <td>53423134</td>\n",
       "      <td>F</td>\n",
       "    </tr>\n",
       "  </tbody>\n",
       "</table>\n",
       "</div>"
      ],
      "text/plain": [
       "  first_name  last_name birth_day            email       phone gender\n",
       "0       ilia  gogitidze  12/22/11         @hutledu  1456654321      M\n",
       "1       bing         hu  12/12/12  adsadaw@mail.ru    53423134      F"
      ]
     },
     "execution_count": 8,
     "metadata": {},
     "output_type": "execute_result"
    }
   ],
   "source": [
    "user_data"
   ]
  },
  {
   "cell_type": "code",
   "execution_count": null,
   "metadata": {},
   "outputs": [],
   "source": []
  }
 ],
 "metadata": {
  "kernelspec": {
   "display_name": "Python 3",
   "language": "python",
   "name": "python3"
  },
  "language_info": {
   "codemirror_mode": {
    "name": "ipython",
    "version": 3
   },
   "file_extension": ".py",
   "mimetype": "text/x-python",
   "name": "python",
   "nbconvert_exporter": "python",
   "pygments_lexer": "ipython3",
   "version": "3.7.1"
  }
 },
 "nbformat": 4,
 "nbformat_minor": 2
}
