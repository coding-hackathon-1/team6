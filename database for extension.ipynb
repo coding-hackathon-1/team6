import pandas as pd

#defining list and 
app_list = []
database_df = pd.DataFrame(app_list)

first_name = input("Please enter your first name: ")
last_name = input("Please enter your last name: ")
birth_day = input("Please enter your birthday as (MM/DD/YY): ")
email = input("Please enter your email: ")
phone = input("Please enter your phone number: ")
gender = input("Please enter your gender: M or F")
print("Thank you!")
app_list.append({"first_name" : first_name,
                     "last_name" : last_name,
                     "birth_day" : birth_day,
                     "email" : email,
                     "phone" : phone,
                     "gender" : gender})
    
user_data = database_df.append(app_list, ignore_index = True)
user_data = user_data.reindex(columns = ['first_name', 'last_name', 'birth_day', 'email', 'phone', 'gender'])

user_data

user_data.to_excel('hult_student_data.xlsx')
